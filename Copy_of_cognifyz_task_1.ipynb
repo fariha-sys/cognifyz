{
  "nbformat": 4,
  "nbformat_minor": 0,
  "metadata": {
    "colab": {
      "provenance": [],
      "authorship_tag": "ABX9TyP/A5HasDeIGe7AGSqo35k+",
      "include_colab_link": true
    },
    "kernelspec": {
      "name": "python3",
      "display_name": "Python 3"
    },
    "language_info": {
      "name": "python"
    }
  },
  "cells": [
    {
      "cell_type": "markdown",
      "metadata": {
        "id": "view-in-github",
        "colab_type": "text"
      },
      "source": [
        "<a href=\"https://colab.research.google.com/github/noturtypff/cognifyz/blob/main/Copy_of_cognifyz_task_1.ipynb\" target=\"_parent\"><img src=\"https://colab.research.google.com/assets/colab-badge.svg\" alt=\"Open In Colab\"/></a>"
      ]
    },
    {
      "cell_type": "code",
      "execution_count": null,
      "metadata": {
        "colab": {
          "base_uri": "https://localhost:8080/"
        },
        "id": "ayQL6AABhA72",
        "outputId": "8fd65cf0-0b28-4458-9492-fa416cde0dc6"
      },
      "outputs": [
        {
          "output_type": "stream",
          "name": "stdout",
          "text": [
            "number of rows:9551\n",
            "number of columns:21\n"
          ]
        }
      ],
      "source": [
        "import pandas as pd\n",
        "df=pd.read_csv(\"Dataset .csv\")\n",
        "rows,columns=df.shape\n",
        "print(f\"number of rows:{rows}\")\n",
        "print(f\"number of columns:{columns}\")\n"
      ]
    },
    {
      "cell_type": "code",
      "source": [
        "print(df.isnull().sum())"
      ],
      "metadata": {
        "colab": {
          "base_uri": "https://localhost:8080/"
        },
        "id": "W1KnuiEIigLW",
        "outputId": "4691b771-825e-4660-cb34-a6fef452b0c5"
      },
      "execution_count": null,
      "outputs": [
        {
          "output_type": "stream",
          "name": "stdout",
          "text": [
            "Restaurant ID           0\n",
            "Restaurant Name         0\n",
            "Country Code            0\n",
            "City                    0\n",
            "Address                 0\n",
            "Locality                0\n",
            "Locality Verbose        0\n",
            "Longitude               0\n",
            "Latitude                0\n",
            "Cuisines                9\n",
            "Average Cost for two    0\n",
            "Currency                0\n",
            "Has Table booking       0\n",
            "Has Online delivery     0\n",
            "Is delivering now       0\n",
            "Switch to order menu    0\n",
            "Price range             0\n",
            "Aggregate rating        0\n",
            "Rating color            0\n",
            "Rating text             0\n",
            "Votes                   0\n",
            "dtype: int64\n"
          ]
        }
      ]
    },
    {
      "cell_type": "code",
      "source": [
        "print (df.dtypes)"
      ],
      "metadata": {
        "colab": {
          "base_uri": "https://localhost:8080/"
        },
        "id": "5pRFICTnjL4h",
        "outputId": "630ede87-9f80-40dc-dbee-33dc1a55b951"
      },
      "execution_count": null,
      "outputs": [
        {
          "output_type": "stream",
          "name": "stdout",
          "text": [
            "Restaurant ID             int64\n",
            "Restaurant Name          object\n",
            "Country Code              int64\n",
            "City                     object\n",
            "Address                  object\n",
            "Locality                 object\n",
            "Locality Verbose         object\n",
            "Longitude               float64\n",
            "Latitude                float64\n",
            "Cuisines                 object\n",
            "Average Cost for two      int64\n",
            "Currency                 object\n",
            "Has Table booking        object\n",
            "Has Online delivery      object\n",
            "Is delivering now        object\n",
            "Switch to order menu     object\n",
            "Price range               int64\n",
            "Aggregate rating        float64\n",
            "Rating color             object\n",
            "Rating text              object\n",
            "Votes                     int64\n",
            "dtype: object\n"
          ]
        }
      ]
    },
    {
      "cell_type": "code",
      "source": [
        "df['City'] = df['City'].astype('category')\n",
        "print (df.dtypes)"
      ],
      "metadata": {
        "colab": {
          "base_uri": "https://localhost:8080/"
        },
        "id": "RjKRt3zHj8h6",
        "outputId": "2d0a0c4c-9e58-4cb4-8c96-2f7f25228722"
      },
      "execution_count": null,
      "outputs": [
        {
          "output_type": "stream",
          "name": "stdout",
          "text": [
            "Restaurant ID              int64\n",
            "Restaurant Name           object\n",
            "Country Code               int64\n",
            "City                    category\n",
            "Address                   object\n",
            "Locality                  object\n",
            "Locality Verbose          object\n",
            "Longitude                float64\n",
            "Latitude                 float64\n",
            "Cuisines                  object\n",
            "Average Cost for two       int64\n",
            "Currency                  object\n",
            "Has Table booking         object\n",
            "Has Online delivery       object\n",
            "Is delivering now         object\n",
            "Switch to order menu      object\n",
            "Price range                int64\n",
            "Aggregate rating         float64\n",
            "Rating color              object\n",
            "Rating text               object\n",
            "Votes                      int64\n",
            "dtype: object\n"
          ]
        }
      ]
    },
    {
      "cell_type": "code",
      "source": [
        "df['Has Table booking'] = df['Has Table booking'].map({'Yes': 1, 'No': 0})\n",
        "df['Has Online delivery'] = df['Has Online delivery'].map({'Yes': 1, 'No': 0})\n",
        "df['Votes']=df['Votes'].astype(float)\n",
        "print(df.dtypes)"
      ],
      "metadata": {
        "colab": {
          "base_uri": "https://localhost:8080/"
        },
        "id": "WMsh2sGPkF5b",
        "outputId": "22bc80ba-8467-4508-93b0-abd2041c0c1a"
      },
      "execution_count": null,
      "outputs": [
        {
          "output_type": "stream",
          "name": "stdout",
          "text": [
            "Restaurant ID              int64\n",
            "Restaurant Name           object\n",
            "Country Code               int64\n",
            "City                    category\n",
            "Address                   object\n",
            "Locality                  object\n",
            "Locality Verbose          object\n",
            "Longitude                float64\n",
            "Latitude                 float64\n",
            "Cuisines                  object\n",
            "Average Cost for two       int64\n",
            "Currency                  object\n",
            "Has Table booking        float64\n",
            "Has Online delivery      float64\n",
            "Is delivering now         object\n",
            "Switch to order menu      object\n",
            "Price range                int64\n",
            "Aggregate rating         float64\n",
            "Rating color              object\n",
            "Rating text               object\n",
            "Votes                    float64\n",
            "dtype: object\n"
          ]
        }
      ]
    },
    {
      "cell_type": "code",
      "source": [
        "print(df['Aggregate rating'].value_counts().sort_index())\n"
      ],
      "metadata": {
        "colab": {
          "base_uri": "https://localhost:8080/"
        },
        "id": "O9GGOlJ5lZzf",
        "outputId": "56947466-4ad1-4ccd-9c27-83574f8c5d96"
      },
      "execution_count": null,
      "outputs": [
        {
          "output_type": "stream",
          "name": "stdout",
          "text": [
            "Aggregate rating\n",
            "0.0    2148\n",
            "1.8       1\n",
            "1.9       2\n",
            "2.0       7\n",
            "2.1      15\n",
            "2.2      27\n",
            "2.3      47\n",
            "2.4      87\n",
            "2.5     110\n",
            "2.6     191\n",
            "2.7     250\n",
            "2.8     315\n",
            "2.9     381\n",
            "3.0     468\n",
            "3.1     519\n",
            "3.2     522\n",
            "3.3     483\n",
            "3.4     498\n",
            "3.5     480\n",
            "3.6     458\n",
            "3.7     427\n",
            "3.8     400\n",
            "3.9     335\n",
            "4.0     266\n",
            "4.1     274\n",
            "4.2     221\n",
            "4.3     174\n",
            "4.4     144\n",
            "4.5      95\n",
            "4.6      78\n",
            "4.7      42\n",
            "4.8      25\n",
            "4.9      61\n",
            "Name: count, dtype: int64\n"
          ]
        }
      ]
    },
    {
      "cell_type": "code",
      "source": [
        "import matplotlib.pyplot as plt\n",
        "df['Aggregate rating'].value_counts().sort_index().plot(kind='bar', figsize=(10,5))\n",
        "plt.title('Distribution of Aggregate Rating')\n",
        "plt.xlabel('Rating')\n",
        "plt.ylabel('Count')\n",
        "plt.show()"
      ],
      "metadata": {
        "colab": {
          "base_uri": "https://localhost:8080/",
          "height": 495
        },
        "id": "0Nmr61TzltQ4",
        "outputId": "3fedb997-9198-4043-cbe3-3192d8e0ca43"
      },
      "execution_count": null,
      "outputs": [
        {
          "output_type": "display_data",
          "data": {
            "text/plain": [
              "<Figure size 1000x500 with 1 Axes>"
            ],
            "image/png": "[encoded data removed]"
          },
          "metadata": {}
        }
      ]
    },
    {
      "cell_type": "code",
      "source": [
        "rating_distribution = df['Aggregate rating'].value_counts(normalize=True).sort_index()\n",
        "print(rating_distribution)"
      ],
      "metadata": {
        "colab": {
          "base_uri": "https://localhost:8080/"
        },
        "id": "d6pgijFKl9sG",
        "outputId": "a8667a0c-5287-420b-abbc-bbd40aac5969"
      },
      "execution_count": null,
      "outputs": [
        {
          "output_type": "stream",
          "name": "stdout",
          "text": [
            "Aggregate rating\n",
            "0.0    0.224898\n",
            "1.8    0.000105\n",
            "1.9    0.000209\n",
            "2.0    0.000733\n",
            "2.1    0.001571\n",
            "2.2    0.002827\n",
            "2.3    0.004921\n",
            "2.4    0.009109\n",
            "2.5    0.011517\n",
            "2.6    0.019998\n",
            "2.7    0.026175\n",
            "2.8    0.032981\n",
            "2.9    0.039891\n",
            "3.0    0.049000\n",
            "3.1    0.054340\n",
            "3.2    0.054654\n",
            "3.3    0.050571\n",
            "3.4    0.052141\n",
            "3.5    0.050257\n",
            "3.6    0.047953\n",
            "3.7    0.044707\n",
            "3.8    0.041880\n",
            "3.9    0.035075\n",
            "4.0    0.027850\n",
            "4.1    0.028688\n",
            "4.2    0.023139\n",
            "4.3    0.018218\n",
            "4.4    0.015077\n",
            "4.5    0.009947\n",
            "4.6    0.008167\n",
            "4.7    0.004397\n",
            "4.8    0.002618\n",
            "4.9    0.006387\n",
            "Name: proportion, dtype: float64\n"
          ]
        }
      ]
    },
    {
      "cell_type": "code",
      "source": [],
      "metadata": {
        "id": "bqcYc4Ihl-rA"
      },
      "execution_count": null,
      "outputs": []
    }
  ]
}