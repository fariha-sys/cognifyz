{
  "nbformat": 4,
  "nbformat_minor": 0,
  "metadata": {
    "colab": {
      "provenance": [],
      "authorship_tag": "ABX9TyNk+sl4m0tTIM9Fv/uCwEB5",
      "include_colab_link": true
    },
    "kernelspec": {
      "name": "python3",
      "display_name": "Python 3"
    },
    "language_info": {
      "name": "python"
    }
  },
  "cells": [
    {
      "cell_type": "markdown",
      "metadata": {
        "id": "view-in-github",
        "colab_type": "text"
      },
      "source": [
        "<a href=\"https://colab.research.google.com/github/fariha-sys/cognifyz/blob/main/level_2_cognifyz.ipynb\" target=\"_parent\"><img src=\"https://colab.research.google.com/assets/colab-badge.svg\" alt=\"Open In Colab\"/></a>"
      ]
    },
    {
      "cell_type": "code",
      "execution_count": 3,
      "metadata": {
        "id": "t-zrJScpXbX_",
        "colab": {
          "base_uri": "https://localhost:8080/"
        },
        "outputId": "c8c7dbab-05be-40d3-aad1-ebced609c871"
      },
      "outputs": [
        {
          "output_type": "stream",
          "name": "stdout",
          "text": [
            "Percentage of restaurants offering table booking: 12.12%\n",
            "Percentage of restaurants offering online delivery: 25.66%\n",
            "Average Ratings:\n",
            "With Table Booking: 3.44\n",
            "Without Table Booking: 2.56\n",
            "Price range\n",
            "1    15.774077\n",
            "2    41.310633\n",
            "3    29.190341\n",
            "4     9.044369\n",
            "Name: Has Online delivery, dtype: float64\n"
          ]
        }
      ],
      "source": [
        "\n",
        "#task 1(Table Booking and Online Delivery)\n",
        "import pandas as pd\n",
        "# Load the dataset\n",
        "file_path = '/content/Dataset .csv'\n",
        "df = pd.read_csv(file_path)\n",
        "# Get total number of restaurants\n",
        "total_restaurants = len(df)\n",
        "# Clean and standardize column values\n",
        "df['Has Table booking'] = df['Has Table booking'].str.strip().str.lower()\n",
        "df['Has Online delivery'] = df['Has Online delivery'].str.strip().str.lower()\n",
        "# Calculate percentages\n",
        "table_booking_pct = (df['Has Table booking'] == 'yes').sum() / total_restaurants * 100\n",
        "online_delivery_pct = (df['Has Online delivery'] == 'yes').sum() / total_restaurants * 100\n",
        "# Print results\n",
        "print(f\"Percentage of restaurants offering table booking: {table_booking_pct:.2f}%\")\n",
        "print(f\"Percentage of restaurants offering online delivery: {online_delivery_pct:.2f}%\")\n",
        "#Compare the average ratings of restaurants with table booking and those without.\n",
        "# Clean and standardize the 'Has Table booking' column\n",
        "df['Has Table booking'] = df['Has Table booking'].str.strip().str.lower()\n",
        "avg_ratings_by_booking = df.groupby('Has Table booking')['Aggregate rating'].mean()\n",
        "# Print results\n",
        "print(\"Average Ratings:\")\n",
        "print(f\"With Table Booking: {avg_ratings_by_booking['yes']:.2f}\")\n",
        "print(f\"Without Table Booking: {avg_ratings_by_booking['no']:.2f}\")\n",
        "#Analyze the availability of online delivery among restaurants with different price ranges\n",
        "# Clean and standardize the 'Has Online delivery' column\n",
        "df['Has Online delivery'] = df['Has Online delivery'].str.strip().str.lower()\n",
        "# Group by 'Price range' and calculate percentage of restaurants offering online delivery\n",
        "online_delivery_by_price = df.groupby('Price range')['Has Online delivery'].apply(\n",
        "    lambda x: (x == 'yes').sum() / len(x) * 100)\n",
        "# Print the result\n",
        "print(online_delivery_by_price.sort_index())"
      ]
    },
    {
      "cell_type": "code",
      "source": [
        "#task 2(Price Range Analysis)\n",
        "#Determine the most common price range among all the restaurants\n",
        "import pandas as pd\n",
        "# Load the dataset\n",
        "df = pd.read_csv('/content/Dataset .csv')\n",
        "# Find the most common (mode) price range\n",
        "most_common_price_range = df['Price range'].mode()[0]\n",
        "# Print the result\n",
        "print(f\"The most common price range among all restaurants is: {most_common_price_range}\")\n",
        "#Calculate the average rating for each price range\n",
        "# Group by 'Price range' and calculate the mean of 'Aggregate rating'\n",
        "average_rating_by_price = df.groupby('Price range')['Aggregate rating'].mean()\n",
        "# Print the result\n",
        "print(\"Average rating for each price range:\")\n",
        "print(average_rating_by_price)\n",
        "#Identify the color that represents the highest average rating among different price ranges\n",
        "# Group by 'Price range' and calculate the mean of 'Aggregate rating'\n",
        "avg_rating_by_price = df.groupby('Price range')['Aggregate rating'].mean()\n",
        "# Find the price range with the highest average rating\n",
        "highest_avg_price_range = avg_rating_by_price.idxmax()\n",
        "# Get the most common rating color for that price range\n",
        "most_common_color = df[df['Price range'] == highest_avg_price_range]['Rating color'].mode()[0]\n",
        "# Print results\n",
        "print(f\"Price range with highest average rating: {highest_avg_price_range}\")\n",
        "print(f\"Rating color for this price range: {most_common_color}\")\n"
      ],
      "metadata": {
        "colab": {
          "base_uri": "https://localhost:8080/"
        },
        "id": "Yx9IY62eguk4",
        "outputId": "43f0c763-c36c-4239-d9a5-1557b3383307"
      },
      "execution_count": 7,
      "outputs": [
        {
          "output_type": "stream",
          "name": "stdout",
          "text": [
            "The most common price range among all restaurants is: 1\n",
            "Average rating for each price range:\n",
            "Price range\n",
            "1    1.999887\n",
            "2    2.941054\n",
            "3    3.683381\n",
            "4    3.817918\n",
            "Name: Aggregate rating, dtype: float64\n",
            "Price range with highest average rating: 4\n",
            "Rating color for this price range: Yellow\n"
          ]
        }
      ]
    },
    {
      "cell_type": "code",
      "source": [
        "#task 3(Feature Engineering)\n",
        "#Extract additional features from the existing columns, such as the length of the restaurant name or address\n",
        "import pandas as pd\n",
        "# Load the dataset\n",
        "df = pd.read_csv('/content/Dataset .csv')\n",
        "# Create new features\n",
        "df['Restaurant Name Length'] = df['Restaurant Name'].astype(str).apply(len)\n",
        "df['Address Length'] = df['Address'].astype(str).apply(len)\n",
        "# Display the first few rows with new features\n",
        "print(df[['Restaurant Name', 'Restaurant Name Length', 'Address', 'Address Length']].head())\n",
        "#Create new features like \"Has Table Booking\" or \"Has Online Delivery\" by encoding categorical variables.\n",
        "# Standardize values\n",
        "df['Has Table booking'] = df['Has Table booking'].str.strip().str.lower()\n",
        "df['Has Online delivery'] = df['Has Online delivery'].str.strip().str.lower()\n",
        "# Encode 'yes' as 1, 'no' as 0\n",
        "df['Table_Booking_Encoded'] = df['Has Table booking'].apply(lambda x: 1 if x == 'yes' else 0)\n",
        "df['Online_Delivery_Encoded'] = df['Has Online delivery'].apply(lambda x: 1 if x == 'yes' else 0)\n",
        "# Display the new columns\n",
        "print(df[['Has Table booking', 'Table_Booking_Encoded', 'Has Online delivery', 'Online_Delivery_Encoded']].head())\n"
      ],
      "metadata": {
        "colab": {
          "base_uri": "https://localhost:8080/"
        },
        "id": "smQ6BV7dhxrM",
        "outputId": "a9d74f28-e45c-40dd-8dd2-1b595e6a730e"
      },
      "execution_count": 9,
      "outputs": [
        {
          "output_type": "stream",
          "name": "stdout",
          "text": [
            "          Restaurant Name  Restaurant Name Length  \\\n",
            "0        Le Petit Souffle                      16   \n",
            "1        Izakaya Kikufuji                      16   \n",
            "2  Heat - Edsa Shangri-La                      22   \n",
            "3                    Ooma                       4   \n",
            "4             Sambo Kojin                      11   \n",
            "\n",
            "                                             Address  Address Length  \n",
            "0  Third Floor, Century City Mall, Kalayaan Avenu...              71  \n",
            "1  Little Tokyo, 2277 Chino Roces Avenue, Legaspi...              67  \n",
            "2  Edsa Shangri-La, 1 Garden Way, Ortigas, Mandal...              56  \n",
            "3  Third Floor, Mega Fashion Hall, SM Megamall, O...              70  \n",
            "4  Third Floor, Mega Atrium, SM Megamall, Ortigas...              64  \n",
            "  Has Table booking  Table_Booking_Encoded Has Online delivery  \\\n",
            "0               yes                      1                  no   \n",
            "1               yes                      1                  no   \n",
            "2               yes                      1                  no   \n",
            "3                no                      0                  no   \n",
            "4               yes                      1                  no   \n",
            "\n",
            "   Online_Delivery_Encoded  \n",
            "0                        0  \n",
            "1                        0  \n",
            "2                        0  \n",
            "3                        0  \n",
            "4                        0  \n"
          ]
        }
      ]
    }
  ]
}